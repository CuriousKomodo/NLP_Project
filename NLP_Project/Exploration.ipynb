{
 "cells": [
  {
   "cell_type": "code",
   "execution_count": 15,
   "metadata": {
    "collapsed": false
   },
   "outputs": [],
   "source": [
    "#from allennlp.modules.elmo import Elmo, batch_to_ids\n",
    "from allennlp.models import Model\n",
    "\n",
    "from allennlp.models.reading_comprehension.bidaf import BidirectionalAttentionFlow\n",
    "from allennlp.models.reading_comprehension.bidaf_ensemble import BidafEnsemble\n",
    "from allennlp.models.reading_comprehension.dialog_qa import DialogQA\n",
    "from allennlp.models.reading_comprehension.qanet import QaNet"
   ]
  },
  {
   "cell_type": "code",
   "execution_count": 2,
   "metadata": {
    "collapsed": false
   },
   "outputs": [
    {
     "name": "stderr",
     "output_type": "stream",
     "text": [
      "100%|██████████| 336/336 [00:00<00:00, 112860.27B/s]\n",
      "100%|██████████| 374434792/374434792 [01:03<00:00, 5928817.64B/s]\n"
     ]
    }
   ],
   "source": [
    "options_file = \"https://s3-us-west-2.amazonaws.com/allennlp/models/elmo/2x4096_512_2048cnn_2xhighway/elmo_2x4096_512_2048cnn_2xhighway_options.json\"\n",
    "weight_file = \"https://s3-us-west-2.amazonaws.com/allennlp/models/elmo/2x4096_512_2048cnn_2xhighway/elmo_2x4096_512_2048cnn_2xhighway_weights.hdf5\"\n",
    "\n",
    "# Compute two different representation for each token.\n",
    "# Each representation is a linear weighted combination for the\n",
    "# 3 layers in ELMo (i.e., charcnn, the outputs of the two BiLSTM))\n",
    "elmo = Elmo(options_file, weight_file, 2, dropout=0)\n",
    "\n",
    "# use batch_to_ids to convert sentences to character ids\n",
    "sentences = [['First', 'sentence', '.'], ['Another', '.']]\n",
    "character_ids = batch_to_ids(sentences)\n",
    "\n",
    "embeddings = elmo(character_ids)\n"
   ]
  },
  {
   "cell_type": "code",
   "execution_count": 14,
   "metadata": {
    "collapsed": false
   },
   "outputs": [],
   "source": [
    "bidaf?"
   ]
  },
  {
   "cell_type": "code",
   "execution_count": null,
   "metadata": {
    "collapsed": true
   },
   "outputs": [],
   "source": [
    "#https://github.com/allenai/allennlp/blob/master/allennlp/models/reading_comprehension/bidaf.py"
   ]
  },
  {
   "cell_type": "code",
   "execution_count": 17,
   "metadata": {
    "collapsed": false
   },
   "outputs": [
    {
     "name": "stdout",
     "output_type": "stream",
     "text": [
      "\n",
      "/Applications/anaconda/envs/py36/lib/python36.zip\n",
      "/Applications/anaconda/envs/py36/lib/python3.6\n",
      "/Applications/anaconda/envs/py36/lib/python3.6/lib-dynload\n",
      "/Applications/anaconda/envs/py36/lib/python3.6/site-packages\n",
      "/Applications/anaconda/envs/py36/lib/python3.6/site-packages/IPython/extensions\n",
      "/Users/kefei/.ipython\n"
     ]
    }
   ],
   "source": [
    "import sys\n",
    "type(sys.path)\n",
    "for path in sys.path:\n",
    "    print(path)"
   ]
  }
 ],
 "metadata": {
  "anaconda-cloud": {},
  "kernelspec": {
   "display_name": "Python [conda env:py36]",
   "language": "python",
   "name": "conda-env-py36-py"
  },
  "language_info": {
   "codemirror_mode": {
    "name": "ipython",
    "version": 3
   },
   "file_extension": ".py",
   "mimetype": "text/x-python",
   "name": "python",
   "nbconvert_exporter": "python",
   "pygments_lexer": "ipython3",
   "version": "3.6.7"
  }
 },
 "nbformat": 4,
 "nbformat_minor": 1
}
